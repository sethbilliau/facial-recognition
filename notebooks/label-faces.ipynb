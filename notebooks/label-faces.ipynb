{
 "cells": [
  {
   "cell_type": "markdown",
   "id": "1a67d983-b9aa-456e-8dac-cf16ea2a966f",
   "metadata": {},
   "source": [
    "# Label Faces"
   ]
  },
  {
   "cell_type": "code",
   "execution_count": 10,
   "id": "f7ef2645-8dc5-466f-b69b-7ad290f2fb15",
   "metadata": {},
   "outputs": [],
   "source": [
    "\n",
    "import glob\n",
    "import pandas as pd\n",
    "import numpy as np\n",
    "\n",
    "from pigeon import annotate\n",
    "from IPython.display import display, Image\n"
   ]
  },
  {
   "cell_type": "code",
   "execution_count": 9,
   "id": "99dc1e68-b8eb-4a13-8ca1-8e44cfbabc14",
   "metadata": {},
   "outputs": [
    {
     "data": {
      "application/vnd.jupyter.widget-view+json": {
       "model_id": "6cb029818a1140b587bf9249a29dfc49",
       "version_major": 2,
       "version_minor": 0
      },
      "text/plain": [
       "HTML(value='0 examples annotated, 345 examples left')"
      ]
     },
     "metadata": {},
     "output_type": "display_data"
    },
    {
     "data": {
      "application/vnd.jupyter.widget-view+json": {
       "model_id": "de71655520754132bc5c9d844a48cce1",
       "version_major": 2,
       "version_minor": 0
      },
      "text/plain": [
       "HBox(children=(Button(description='seth', style=ButtonStyle()), Button(description='claire', style=ButtonStyle…"
      ]
     },
     "metadata": {},
     "output_type": "display_data"
    },
    {
     "data": {
      "application/vnd.jupyter.widget-view+json": {
       "model_id": "4a801b6123a8410db057422327419be1",
       "version_major": 2,
       "version_minor": 0
      },
      "text/plain": [
       "Output()"
      ]
     },
     "metadata": {},
     "output_type": "display_data"
    }
   ],
   "source": [
    "# Get a list of all jpg image filenames in the source directory \n",
    "folderpath = '../data/faces-final/'\n",
    "jpgFilenamesList = glob.glob(folderpath + '*.jpg')\n",
    "\n",
    "annotations = annotate(\n",
    "  jpgFilenamesList,\n",
    "  options=['seth', 'claire', 'jordyn', 'none'],\n",
    "  display_fn=lambda filename: display(Image(filename))\n",
    ")"
   ]
  },
  {
   "cell_type": "code",
   "execution_count": 11,
   "id": "ccf9c6c3-5d00-42c8-a82f-5a281763a158",
   "metadata": {},
   "outputs": [],
   "source": [
    "df_faces = pd.DataFrame(annotations, columns = ['filename', 'label'])"
   ]
  },
  {
   "cell_type": "code",
   "execution_count": 12,
   "id": "6123da4b-59be-4a03-b07d-61fefb4ec3ca",
   "metadata": {},
   "outputs": [
    {
     "data": {
      "text/plain": [
       "Series([], Name: label, dtype: float64)"
      ]
     },
     "execution_count": 12,
     "metadata": {},
     "output_type": "execute_result"
    }
   ],
   "source": [
    "df_faces.label.value_counts() / df_faces.shape[0]"
   ]
  },
  {
   "cell_type": "code",
   "execution_count": null,
   "id": "f00eb704-2765-44b9-8b47-0b7383ccfb91",
   "metadata": {},
   "outputs": [],
   "source": [
    "filename = '../data/faces_labeled.csv'\n",
    "\n",
    "df_faces.to_csv(filename)"
   ]
  }
 ],
 "metadata": {
  "kernelspec": {
   "display_name": "Python 3 (ipykernel)",
   "language": "python",
   "name": "python3"
  },
  "language_info": {
   "codemirror_mode": {
    "name": "ipython",
    "version": 3
   },
   "file_extension": ".py",
   "mimetype": "text/x-python",
   "name": "python",
   "nbconvert_exporter": "python",
   "pygments_lexer": "ipython3",
   "version": "3.8.12"
  }
 },
 "nbformat": 4,
 "nbformat_minor": 5
}
